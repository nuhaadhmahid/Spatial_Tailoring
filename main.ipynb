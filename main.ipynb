{
 "cells": [
  {
   "cell_type": "code",
   "execution_count": 1,
   "id": "d1302b36",
   "metadata": {},
   "outputs": [],
   "source": [
    "import sys\n",
    "import os\n",
    "import shutil\n",
    "import traceback\n",
    "\n",
    "sys.path.append(os.path.abspath(os.getcwd()))\n",
    "import Utils\n",
    "\n",
    "import numpy as np\n",
    "import matplotlib.pyplot as plt\n",
    "from mpl_toolkits.mplot3d import Axes3D\n",
    "%matplotlib inline\n"
   ]
  },
  {
   "cell_type": "code",
   "execution_count": 2,
   "id": "97fcadc4",
   "metadata": {},
   "outputs": [
    {
     "name": "stdout",
     "output_type": "stream",
     "text": [
      "\tUPDATE: starting RVE analysis test_case_7 - 0\n",
      "\tUPDATE: analysis for test_case_7 - 0 completed in 21.48s\n"
     ]
    }
   ],
   "source": [
    "\n",
    "# Example\n",
    "directory = Utils.Directory(case_name=\"test_case_7\")\n",
    "case_number = 0\n",
    "\n",
    "# RVE Analysis\n",
    "from RVE import RVE\n",
    "panel = RVE(\n",
    "    directory=directory,\n",
    "    case_number=case_number,\n",
    ")\n",
    "panel.analysis()"
   ]
  },
  {
   "cell_type": "code",
   "execution_count": 3,
   "id": "8a4c759e",
   "metadata": {},
   "outputs": [
    {
     "name": "stdout",
     "output_type": "stream",
     "text": [
      "\tUPDATE: starting FairingAnalysis analysis test_case_7 - 0\n",
      "\t\tWARNING: rib arc length not an integer multiple of cell size. Num cells 69.0, Remainder 0.0245\n",
      "\t\tWARNING: bay spacing not an integer multiple of cell size. Num cells 9.0, Remainder 0.0036\n",
      "\tUPDATE: analysis for test_case_7 - 0 completed in 15.60s\n"
     ]
    }
   ],
   "source": [
    "# Fairing Analysis\n",
    "from Fairing import FairingAnalysis, FairingGeometry, FairingData\n",
    "fairing = FairingAnalysis(\n",
    "    RVE_identifier=panel.case_number, \n",
    "    directory=directory, \n",
    "    case_number=case_number,\n",
    ")\n",
    "fairing.analysis()\n",
    "\n"
   ]
  },
  {
   "cell_type": "code",
   "execution_count": 4,
   "id": "8a2e0685",
   "metadata": {},
   "outputs": [
    {
     "name": "stdout",
     "output_type": "stream",
     "text": [
      "Lattice field for folding angles (deg): ['0.0', '5.0', '10.0', '15.0']\n",
      "\tUPDATE: trace_streamlines for test_case_7 - 0 completed in 4.11s\n",
      "WARNING: Line 5 is removed due to close proximity to the border with 18 intersections\n",
      "WARNING: Line 74 is removed due to close proximity to the border with 20 intersections\n",
      "WARNING: Line 6 is removed due to close proximity to the border with 10 intersections\n",
      "WARNING: Line 75 is removed due to close proximity to the border with 20 intersections\n",
      "WARNING: Line 75 is removed due to close proximity to the border with 14 intersections\n",
      "WARNING: Line 5 is removed due to close proximity to the border with 10 intersections\n",
      "WARNING: Line 75 is removed due to close proximity to the border with 12 intersections\n",
      "\tUPDATE: analysis for test_case_7 - 0 completed in 9.67s\n"
     ]
    }
   ],
   "source": [
    "# Trace principal strain directions  \n",
    "from Fairing import FairingData\n",
    "from Tailoring import Lattice\n",
    "lattice_data = Lattice(directory, case_number)\n",
    "lattice_data.analysis()"
   ]
  },
  {
   "cell_type": "code",
   "execution_count": 21,
   "id": "55198daa",
   "metadata": {},
   "outputs": [
    {
     "name": "stdout",
     "output_type": "stream",
     "text": [
      "WARNING: Discarded 1 duplicate beam(s).\n",
      "\tUPDATE: create_fairing_2D for test_case_7 - 0 completed in 26.09s\n"
     ]
    }
   ],
   "source": [
    "# Generate field-aligned lattice\n",
    "from Tailoring import Tailored    \n",
    "tailored = Tailored(directory, case_number, lattice_data=lattice_data)\n",
    "tailored.create_fairing_2D(bool_plot=True)\n",
    "\n",
    "# 2D Mesh Plot\n",
    "increment_key = \"15\"\n",
    "# tailored.mesh2D[increment_key].plot_2D(\n",
    "#     {\"group_sets\": [], \"triangle_sets\": []},\n",
    "#     False,\n",
    "#     os.path.join(directory.case_folder, \"fig\", f\"{case_number}_initial_2D_{increment_key}.svg\"),\n",
    "#     True\n",
    "# )\n"
   ]
  },
  {
   "cell_type": "code",
   "execution_count": 22,
   "id": "3e0e9ddf",
   "metadata": {},
   "outputs": [
    {
     "name": "stdout",
     "output_type": "stream",
     "text": [
      "WARNING: Beams of 'Ribs' repeated in 'Stringers' are removed from 'Stringers'.\n"
     ]
    }
   ],
   "source": [
    "# Mapping lattice to 3D wing\n",
    "tailored.mapping_2D_to_3D(bool_plot=True)\n",
    "tailored.validate_midplane_mesh()\n",
    "\n",
    "# # 3D Mesh Plot\n",
    "# increment_key = \"15\"\n",
    "# tailored.mesh3D[increment_key].plot_3D(\n",
    "#     {\"beam_sets\": [], \"triangle_sets\": []},\n",
    "#     False,\n",
    "#     os.path.join(directory.case_folder, \"fig\", f\"{case_number}_tailored_3D_{increment_key}.svg\"),\n",
    "#     True\n",
    "# )"
   ]
  },
  {
   "cell_type": "code",
   "execution_count": null,
   "id": "2928bb11",
   "metadata": {},
   "outputs": [],
   "source": [
    "\n",
    "from scipy import interpolate\n",
    "\n",
    "# data for interpolation\n",
    "coords = fairing.aerofoil_coords['mid']\n",
    "normals = Utils.GeoOps.normals_2D(coords)\n",
    "\n",
    "# RBF interpolation\n",
    "f_normals = interpolate.RBFInterpolator(coords, normals, neighbors=4, kernel='linear')\n",
    "\n",
    "# # sampling\n",
    "# inc = 4\n",
    "# X=coords[::inc,0]\n",
    "# Y=coords[::inc,1]\n",
    "# N=f_normals(coords[::inc,:])\n",
    "# plt.figure(figsize=(10,5))\n",
    "# plt.plot(X, Y, 'r.-')\n",
    "# plt.quiver(X, Y, N[:,0], N[:,1])\n",
    "# plt.axis('equal')\n",
    "\n",
    "# seperate\n",
    "midplane = tailored.mesh3D[increment_key].copy()\n",
    "inner = tailored.mesh3D[increment_key].copy()\n",
    "outer = tailored.mesh3D[increment_key].copy()\n",
    "\n",
    "# offset\n",
    "inner.nodes[:,[0,2]] += f_normals(inner.nodes[:,[0,2]]) * fairing.RVE_variables[\"lz\"]\n",
    "outer.nodes[:,[0,2]] -= f_normals(outer.nodes[:,[0,2]]) * fairing.RVE_variables[\"lz\"]\n",
    "\n",
    "#\n",
    "\n",
    "\n",
    "\n",
    "# # plot 3D mesh\n",
    "# tailored.mesh3D[increment_key].plot_3D(\n",
    "#     {\"beam_sets\": []},\n",
    "#     False,\n",
    "#     os.path.join(directory.case_folder, \"fig\", f\"{case_number}_tailored_3D_{increment_key}.svg\"),\n",
    "#     True\n",
    "# )"
   ]
  },
  {
   "cell_type": "code",
   "execution_count": null,
   "id": "20678f7d",
   "metadata": {},
   "outputs": [],
   "source": [
    "# update nodes\n",
    "nodes = original.nodes\n",
    "node_offset = nodes.shape[0]\n",
    "new_nodes = nodes.copy()\n",
    "new_nodes[:,[0,2]] += f_normals(nodes[:,[0,2]]) * fairing.RVE_variables[\"lz\"]\n",
    "tailored.mesh3D[increment_key].nodes = np.vstack((nodes, new_nodes))\n",
    "# update beam \n",
    "tailored.mesh3D[increment_key].beams = np.vstack((tailored.mesh3D[increment_key].beams, tailored.mesh3D[increment_key].beams + node_offset))\n",
    "new_sets = {}\n",
    "for key, value in tailored.mesh3D[increment_key].beam_sets.items():\n",
    "    new_sets[f\"{key}_inner\"] = value + node_offset\n",
    "tailored.mesh3D[increment_key].beam_sets.update(new_sets)\n",
    "# update triangle \n",
    "tailored.mesh3D[increment_key].triangles = np.vstack((tailored.mesh3D[increment_key].triangles, tailored.mesh3D[increment_key].triangles + node_offset))\n",
    "new_sets = {}\n",
    "for key, value in tailored.mesh3D[increment_key].triangle_sets.items():\n",
    "    new_sets[f\"{key}_inner\"] = value + node_offset\n",
    "tailored.mesh3D[increment_key].triangle_sets.update(new_sets)"
   ]
  },
  {
   "cell_type": "code",
   "execution_count": 20,
   "id": "a92e54b0",
   "metadata": {},
   "outputs": [],
   "source": [
    "\n",
    "\n",
    "def write_mesh(self, filename):\n",
    "    \"\"\"\n",
    "    Writes the mesh to a file using the specified serialization method.\n",
    "\n",
    "    Parameters:\n",
    "        filename (str): The base file path (without extension) where the mesh will be saved.\n",
    "    \"\"\"\n",
    "    def format_lines(data_list, items_per_line=16):\n",
    "        lines : list[str] = []\n",
    "        for i in range(0, len(data_list), items_per_line):\n",
    "            chunk = data_list[i:i + items_per_line]\n",
    "            lines.append(\", \".join(map(str, chunk)) + (\",\" if i + items_per_line < len(data_list) else \"\"))\n",
    "        return lines\n",
    "\n",
    "    lines = []\n",
    "\n",
    "    # nodes\n",
    "    lines.append(\"*NODE\")\n",
    "    for i, node in enumerate(self.nodes):\n",
    "        i = i + 1  # Abaqus uses 1-based indexing\n",
    "        lines.append(\"%i, %f, %f, %f\" % (i, *node))\n",
    "\n",
    "    # beams\n",
    "    lines.append(\"*ELEMENT, TYPE=%s\" % (\"B31\"))\n",
    "    for i, beam in enumerate(self.beams):\n",
    "        i = i + 1  # Abaqus uses 1-based indexing\n",
    "        beam = beam + 1  # Abaqus uses 1-based indexing\n",
    "        lines.append(\"%i, %i, %i\" % (i, beam[0], beam[1]))\n",
    "\n",
    "    # triangles\n",
    "    num_beam_elements = self.beams.shape[0]\n",
    "    lines.append(\"*ELEMENT, TYPE=%s\" % (\"S3\"))\n",
    "    # outside\n",
    "    for i, triangle in enumerate(self.triangles):\n",
    "        i = i + 1 + num_beam_elements # Abaqus uses 1-based indexing\n",
    "        triangle = triangle + 1  # Abaqus uses 1-based indexing\n",
    "        lines.append(\"%i, %i, %i, %i\" % (i, triangle[0], triangle[1], triangle[2]))\n",
    "\n",
    "    # node sets\n",
    "    for set_name, set_items in self.nsets.items():\n",
    "        lines.append(\"*NSET, NSET=%s\" % (set_name))\n",
    "        set_items = set_items + 1  # Abaqus uses 1-based indexing\n",
    "        lines.extend(format_lines(set_items))\n",
    "    # beam sets\n",
    "    for set_name, set_items in self.beam_sets.items():\n",
    "        set_items = set_items + 1  # Abaqus uses 1-based indexing\n",
    "        lines.append(\"*ELSET, ELSET=%s\" % (set_name))\n",
    "        lines.extend(format_lines(set_items))\n",
    "    # triangle sets\n",
    "    for set_name, set_items in self.triangle_sets.items():\n",
    "        set_items = set_items + 1  # Abaqus uses 1-based indexing\n",
    "        lines.append(\"*ELSET, ELSET=%s\" % (set_name))\n",
    "        lines.extend(format_lines(set_items))\n",
    "\n",
    "    # write to file\n",
    "    with open(filename+\".inp\", \"w\", encoding=\"utf-8\") as f:\n",
    "        f.write(\"\\n\".join(lines) + \"\\n\")\n",
    "\n",
    "\n",
    "# write mesh\n",
    "write_mesh(\n",
    "    tailored.mesh3D[increment_key], \n",
    "    os.path.join(directory.case_folder, \"mesh\", f\"{case_number}_tailored_3D_{increment_key}.inp\")\n",
    ")"
   ]
  },
  {
   "cell_type": "markdown",
   "id": "e689f219",
   "metadata": {},
   "source": []
  }
 ],
 "metadata": {
  "kernelspec": {
   "display_name": ".venv",
   "language": "python",
   "name": "python3"
  },
  "language_info": {
   "codemirror_mode": {
    "name": "ipython",
    "version": 3
   },
   "file_extension": ".py",
   "mimetype": "text/x-python",
   "name": "python",
   "nbconvert_exporter": "python",
   "pygments_lexer": "ipython3",
   "version": "3.13.7"
  }
 },
 "nbformat": 4,
 "nbformat_minor": 5
}
