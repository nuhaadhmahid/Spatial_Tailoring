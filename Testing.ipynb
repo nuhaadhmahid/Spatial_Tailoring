{
 "cells": [
  {
   "cell_type": "code",
   "execution_count": 1,
   "id": "8370564d",
   "metadata": {},
   "outputs": [],
   "source": [
    "import numpy as np"
   ]
  },
  {
   "cell_type": "code",
   "execution_count": 2,
   "id": "e74950b6",
   "metadata": {},
   "outputs": [
    {
     "data": {
      "text/plain": [
       "(array([1, 4]), array([1, 4]))"
      ]
     },
     "execution_count": 2,
     "metadata": {},
     "output_type": "execute_result"
    }
   ],
   "source": [
    "\n",
    "\n",
    "A = np.array([10, 20, 30, 40, 50])\n",
    "B = np.array([20, 50])\n",
    "C = np.array([50, 20])\n",
    "indices1 = np.where(np.isin(A, B))[0]\n",
    "indices2 = np.where(np.isin(A, C))[0]\n",
    "\n",
    "indices1, indices2"
   ]
  },
  {
   "cell_type": "code",
   "execution_count": 3,
   "id": "ce110c46",
   "metadata": {},
   "outputs": [
    {
     "name": "stdout",
     "output_type": "stream",
     "text": [
      "[1 2 3 4 5 0]\n",
      "[2 5]\n",
      "[5 2]\n",
      "[2 5]\n",
      "[5 2]\n"
     ]
    }
   ],
   "source": [
    "\n",
    "\n",
    "A = np.array([60, 10, 20, 30, 40, 50])\n",
    "B = np.array([20, 50])\n",
    "C = np.array([50, 20])\n",
    "\n",
    "# Get the indices of B in A, in B's order\n",
    "sort_idx = np.argsort(A)\n",
    "indices_B = np.searchsorted(A, B)\n",
    "indices_C = np.searchsorted(A, C)\n",
    "\n",
    "sort_idx = np.argsort(A)\n",
    "indices_B1 = sort_idx[np.searchsorted(A, B, sorter=sort_idx)]\n",
    "indices_C1 = sort_idx[np.searchsorted(A, C, sorter=sort_idx)]\n",
    "\n",
    "\n",
    "\n",
    "print(sort_idx)\n",
    "print(indices_B)  # [1 4]\n",
    "print(indices_C)  # [4 1]\n",
    "print(indices_B1)  # [1 4]\n",
    "print(indices_C1)  # [4 1]"
   ]
  },
  {
   "cell_type": "code",
   "execution_count": 4,
   "id": "fd5b6436",
   "metadata": {},
   "outputs": [
    {
     "data": {
      "text/plain": [
       "(array([[1, 0],\n",
       "        [4, 1]]),\n",
       " array([[1, 1],\n",
       "        [4, 0]]))"
      ]
     },
     "execution_count": 4,
     "metadata": {},
     "output_type": "execute_result"
    }
   ],
   "source": [
    "import numpy as np\n",
    "\n",
    "A = np.array([10, 20, 30, 40, 50])\n",
    "B = np.array([20, 50])\n",
    "C = np.array([50, 20])\n",
    "indices1 = np.argwhere(A[:, None] == B)\n",
    "indices2 = np.argwhere(A[:, None] == C)\n",
    "\n",
    "indices1, indices2"
   ]
  },
  {
   "cell_type": "code",
   "execution_count": 5,
   "id": "5aa5b533",
   "metadata": {},
   "outputs": [
    {
     "name": "stdout",
     "output_type": "stream",
     "text": [
      "A: (4, 5, 3, 2, 2)\n",
      "B: (2, 120)\n",
      "C: (120, 2)\n",
      "D: (4, 5, 3, 2)\n"
     ]
    }
   ],
   "source": [
    "A=np.arange(12*4*5).reshape(4,5,3,2,2)\n",
    "print(\"A:\", A.shape)\n",
    "\n",
    "B = A.T.reshape(2,-1)\n",
    "C = B.T.reshape(2,-1).T\n",
    "print(\"B:\", B.shape)\n",
    "print(\"C:\", C.shape)\n",
    "\n",
    "D = np.sum(A*A, axis=4)\n",
    "print(\"D:\", D.shape)"
   ]
  },
  {
   "cell_type": "code",
   "execution_count": 6,
   "id": "29f9392d",
   "metadata": {},
   "outputs": [
    {
     "name": "stdout",
     "output_type": "stream",
     "text": [
      "(5, 4, 3, 2)\n",
      "(5, 4, 2, 3)\n",
      "[[0 1]\n",
      " [2 3]\n",
      " [4 5]]\n",
      "[[0 2 4]\n",
      " [1 3 5]]\n",
      "[[ 1  3  5]\n",
      " [ 3 13 23]\n",
      " [ 5 23 41]]\n"
     ]
    }
   ],
   "source": [
    "A = np.arange(2*3*4*5).reshape((5,4,3,2))\n",
    "print(A.shape)\n",
    "print(A.transpose(0, 1, 3, 2).shape)\n",
    "\n",
    "print(A[0, 0])\n",
    "print(A.transpose(0, 1, 3, 2)[0, 0])\n",
    "print(A[0, 0]@A.transpose(0, 1, 3, 2)[0, 0])"
   ]
  },
  {
   "cell_type": "code",
   "execution_count": 7,
   "id": "17c7d2f8",
   "metadata": {},
   "outputs": [
    {
     "name": "stdout",
     "output_type": "stream",
     "text": [
      "1 0 1 0 1\n",
      "0 1 1 2 2\n"
     ]
    }
   ],
   "source": [
    "print(1%2, 2%2, 3%2, 4%2, 5%2)\n",
    "print(1//2, 2//2, 3//2, 4//2, 5//2)"
   ]
  },
  {
   "cell_type": "code",
   "execution_count": 8,
   "id": "cfef8975",
   "metadata": {},
   "outputs": [
    {
     "name": "stdout",
     "output_type": "stream",
     "text": [
      "(5, 4, 3, 2)\n",
      "[[0 1]\n",
      " [2 3]\n",
      " [4 5]]\n"
     ]
    }
   ],
   "source": [
    "A = np.arange(2*3*4*5).reshape((5,4,3,2))\n",
    "print(A.shape)\n",
    "print(np.min(A, axis=(0,1)))"
   ]
  },
  {
   "cell_type": "code",
   "execution_count": 9,
   "id": "7a94a40c",
   "metadata": {},
   "outputs": [
    {
     "name": "stdout",
     "output_type": "stream",
     "text": [
      "[2 3 5 7]\n",
      "[1 2 2]\n",
      "[2 3]\n",
      "[2 3 5 7]\n",
      "[array([2, 3]), array([5]), array([7])]\n",
      "[array([1, 2, 3, 4]), array([4, 5, 6]), array([6, 7, 8])]\n"
     ]
    }
   ],
   "source": [
    "mask = np.array([False, False, True, True, False, True, False, True, False, False])\n",
    "true_indices = np.where(mask)[0]\n",
    "\n",
    "print(true_indices)\n",
    "print(np.diff(true_indices))\n",
    "print(np.where(np.diff(true_indices) != 1)[0]+1)\n",
    "\n",
    "groups = np.split(true_indices, np.where(np.diff(true_indices) != 1)[0] + 1)\n",
    "# groups = [np.r_[group[0]-1, group, group[-1]+1] for group in groups]\n",
    "\n",
    "extended_groups = []\n",
    "for group in groups:\n",
    "    start = max(group[0] - 1, 0)\n",
    "    end = min(group[-1] + 1, mask.shape[0]-1)\n",
    "    extended_groups.append(np.arange(start, end + 1))\n",
    "\n",
    "print(true_indices)\n",
    "print(groups)\n",
    "print(extended_groups)"
   ]
  },
  {
   "cell_type": "code",
   "execution_count": 15,
   "id": "38c123a2",
   "metadata": {},
   "outputs": [
    {
     "name": "stdout",
     "output_type": "stream",
     "text": [
      "(3, 2)\n",
      "(3, 2)\n",
      "(3, 2, 2)\n",
      "[[0 1]\n",
      " [2 3]\n",
      " [4 5]]\n",
      "[[ 0 -1]\n",
      " [-2 -3]\n",
      " [-4 -5]]\n",
      "[[[ 0  1]\n",
      "  [ 0 -1]]\n",
      "\n",
      " [[ 2  3]\n",
      "  [-2 -3]]\n",
      "\n",
      " [[ 4  5]\n",
      "  [-4 -5]]]\n"
     ]
    }
   ],
   "source": [
    "A=np.arange(3*2).reshape(3, 2)\n",
    "B=-A\n",
    "C=np.stack((A, B),1)\n",
    "\n",
    "print(A.shape, B.shape, C.shape, sep=\"\\n\")\n",
    "print(A, B, C, sep=\"\\n\")"
   ]
  },
  {
   "cell_type": "code",
   "execution_count": 30,
   "id": "fa111a6d",
   "metadata": {},
   "outputs": [
    {
     "name": "stdout",
     "output_type": "stream",
     "text": [
      "[1.         0.25       0.11111111 0.0625    ]\n",
      "[1.         0.5        0.33333333 0.25      ]\n",
      "[1 1 1 1]\n",
      "[1 2 3 4]\n"
     ]
    }
   ],
   "source": [
    "A=[\n",
    "    [\n",
    "        lambda n: np.array([x**2 for x in range(n)]),\n",
    "        lambda n: np.array([x**3 for x in range(n)]),\n",
    "    ],\n",
    "    [\n",
    "        lambda n: np.array([x**4 for x in range(n)]),\n",
    "        lambda n: np.array([x**5 for x in range(n)]),\n",
    "    ]\n",
    "]\n",
    "\n",
    "for i in range(2):\n",
    "    for j in range(2):\n",
    "        A[i][j] = lambda n: np.array([x**((i-1)*2+j) for x in range(1,n)])\n",
    "\n",
    "for i in range(2):\n",
    "    for j in range(2):\n",
    "        print(A[i][j](5))"
   ]
  },
  {
   "cell_type": "code",
   "execution_count": 41,
   "id": "ca283344",
   "metadata": {},
   "outputs": [
    {
     "name": "stdout",
     "output_type": "stream",
     "text": [
      "[[1 2 3 4 5]]\n",
      "[[2.01 ]\n",
      " [5.001]]\n",
      "[[-1.010e+00 -1.000e-02  9.900e-01  1.990e+00  2.990e+00]\n",
      " [-4.001e+00 -3.001e+00 -2.001e+00 -1.001e+00 -1.000e-03]]\n",
      "[1 4]\n"
     ]
    }
   ],
   "source": [
    "A = np.array([1, 2, 3, 4, 5])\n",
    "B = np.array([2.01, 5.001])\n",
    "indices1 = np.argmin(np.abs(A[np.newaxis,...] - B[..., np.newaxis]), axis=1)\n",
    "\n",
    "print(A[np.newaxis,...])\n",
    "print(B[..., np.newaxis])\n",
    "print(A[np.newaxis,...] - B[..., np.newaxis])\n",
    "\n",
    "print(indices1)"
   ]
  },
  {
   "cell_type": "code",
   "execution_count": 53,
   "id": "cfe93b6c",
   "metadata": {},
   "outputs": [
    {
     "name": "stdout",
     "output_type": "stream",
     "text": [
      "(array([[[0]],\n",
      "\n",
      "       [[1]],\n",
      "\n",
      "       [[2]],\n",
      "\n",
      "       [[3]]]), array([[[0],\n",
      "        [1],\n",
      "        [2]]]), array([[[0, 1]]]))\n"
     ]
    }
   ],
   "source": [
    "A = np.arange(24).reshape(4,3,2)\n",
    "print(np.ix_(np.arange(4), np.arange(3), np.arange(2)))\n",
    "B = A[np.ix_(np.arange(4), np.arange(3), np.arange(2))]\n",
    "# print(B)\n",
    "assert np.array_equal(A, B)"
   ]
  },
  {
   "cell_type": "code",
   "execution_count": 74,
   "id": "86718ad6",
   "metadata": {},
   "outputs": [
    {
     "name": "stdout",
     "output_type": "stream",
     "text": [
      "(array([[0],\n",
      "       [1],\n",
      "       [2]]), array([[0, 1, 2]]))\n"
     ]
    }
   ],
   "source": [
    "axis = 0\n",
    "A = np.arange(4*3*2*2).reshape(4,3,2,2)\n",
    "shape = A.shape\n",
    "i = 1 if axis==0 else 0\n",
    "j = 1 if axis==1 else 0\n",
    "indices = np.array([\n",
    "        [np.arange(shape[0] - i), np.arange(i, shape[0])],\n",
    "        [np.arange(shape[1] - j), np.arange(j, shape[1])]\n",
    "    ], dtype=object)\n",
    "\n",
    "# Convert arrays to integer type for indexing\n",
    "idx0 = np.array(indices[0,0], dtype=int)\n",
    "idx1 = np.array(indices[1,0], dtype=int)\n",
    "\n",
    "print(np.ix_(*indices[:,0].astype(int)))\n",
    "#print(A[np.ix_(*indices[:,0].astype(int))])\n",
    "\n",
    "assert np.array_equal(A[np.ix_(*indices[:,0].astype(int))], A[:-1,:])"
   ]
  },
  {
   "cell_type": "code",
   "execution_count": null,
   "id": "da51f6f2",
   "metadata": {},
   "outputs": [
    {
     "data": {
      "image/png": "[encoded data removed]",
      "text/plain": [
       "<Figure size 640x480 with 1 Axes>"
      ]
     },
     "metadata": {},
     "output_type": "display_data"
    }
   ],
   "source": [
    "\n",
    "from fontTools.misc.bezierTools import epsilon\n",
    "import numpy as np\n",
    "from concurrent.futures import ThreadPoolExecutor\n",
    "import matplotlib.pyplot as plt\n",
    "%matplotlib inline\n",
    "\n",
    "def intersection_point(line_1, line_2):\n",
    "    \"\"\"\n",
    "    Calculate the intersection point of two lines defined by multiple points each.\n",
    "    \"\"\"\n",
    "\n",
    "    # finding the closest index\n",
    "    matrix = line_1[:, None] - line_2[None, :]\n",
    "    dist_squared_matrix = np.sum(np.power(matrix, 2), axis=2)\n",
    "    indices = np.unravel_index(\n",
    "        np.argmin(dist_squared_matrix), dist_squared_matrix.shape\n",
    "    )\n",
    "\n",
    "    # indices search range\n",
    "    mins = np.array([\n",
    "        [0, indices[0] - 1], \n",
    "        [0, indices[1] - 1]\n",
    "        ]).max(axis=1)\n",
    "    maxs = np.array([\n",
    "        [indices[0] + 1, line_1.shape[0] - 1], \n",
    "        [indices[1] + 1, line_2.shape[0] - 1]]\n",
    "        ).min(axis=1)\n",
    "    i = np.arange(mins[0], maxs[0])\n",
    "    j = np.arange(mins[1], maxs[1])\n",
    "\n",
    "    # parametrise the line segment with range 0 to 1\n",
    "    x1, y1 = line_1[np.ix_(i, [0])], line_1[np.ix_(i, [1])]\n",
    "    x2, y2 = line_1[np.ix_(i + 1, [0])], line_1[np.ix_(i + 1, [1])]\n",
    "    x3, y3 = line_2[np.ix_(j, [0])].T, line_2[np.ix_(j, [1])].T\n",
    "    x4, y4 = line_2[np.ix_(j + 1, [0])].T, line_2[np.ix_(j + 1, [1])].T\n",
    "    denom = (x1 - x2) * (y3 - y4) - (y1 - y2) * (x3 - x4)\n",
    "    denom += np.finfo(float).eps  # to avoid division by zero\n",
    "    t1 = ((x1 - x3) * (y3 - y4) - (y1 - y3) * (x3 - x4)) / denom\n",
    "    t2 = -((x1 - x2) * (y1 - y3) - (y1 - y2) * (x1 - x3)) / denom\n",
    "\n",
    "    # check the parameter range to verify if the point is with the segment\n",
    "    mask = np.logical_and.reduce((t1 >= 0.0, t1 <= 1.0, t2 >= 0.0, t2 <= 1.0))\n",
    "    \n",
    "    # return intersection point and lines indices\n",
    "    try: \n",
    "        assert np.sum(mask) == 1 # Verify a single intersection\n",
    "        index = np.argwhere(mask).T\n",
    "        return \\\n",
    "            np.c_[\n",
    "                    x1[np.ix_(*index)] + t1[*index] * (x2[np.ix_(*index)] - x1[np.ix_(*index)]),                \n",
    "                    y1[np.ix_(*index)] + t1[*index] * (y2[np.ix_(*index)] - y1[np.ix_(*index)])\n",
    "            ].squeeze().astype(np.float32), \\\n",
    "            np.array([i[index[0]], j[index[1]]])\n",
    "    except:\n",
    "        return np.array([np.nan, np.nan]), np.array([np.nan, np.nan])\n",
    "    \n",
    "\n",
    "def normals_2D(points):\n",
    "    \"\"\"\n",
    "    Calculate the average normal vector at a point on a curve.\n",
    "\n",
    "    Parameters:\n",
    "        points (numpy.ndarray): Array of shape (n, 2)\n",
    "\n",
    "    Returns:\n",
    "        numpy.ndarray: Unit normal vector at the point\n",
    "    \"\"\"\n",
    "    if points.ndim != 2 or points.shape[1] != 2:\n",
    "        raise ValueError(\n",
    "            f\"Input points must be of shape (n, 2). Received {points.shape}\"\n",
    "        )\n",
    "\n",
    "    normals = np.empty(points.shape)\n",
    "\n",
    "    edges = np.diff(points, axis=0) \n",
    "    # perpendicular vectors\n",
    "    normals[0] = (-edges[0, 1], edges[0, 0]) # forward difference\n",
    "    normals[1:-1,:] = np.column_stack(( # central difference\n",
    "        - np.c_[edges[:-1, 1],edges[1:, 1]].mean(axis=1), \n",
    "        + np.c_[edges[:-1, 0],edges[1:, 0]].mean(axis=1),\n",
    "    ))  \n",
    "    normals[-1] = (-edges[-1, 1], edges[-1, 0]) # backward difference\n",
    "    # normalising vector\n",
    "    magnitudes = np.linalg.norm(normals, axis=1)\n",
    "    normals = normals / magnitudes[:, np.newaxis]  \n",
    "\n",
    "    return normals\n",
    "\n",
    "\n",
    "def indexed_function_caller(func, num, *args):\n",
    "    \"\"\"\n",
    "    Wrapper function to unpack arguments for multiprocessing.\n",
    "    \"\"\"\n",
    "    if not callable(func):\n",
    "        raise ValueError(\"func must be a callable function\")\n",
    "\n",
    "    return np.array((*args[:num], func(*args[num:])), dtype=object)\n",
    "\n",
    "A=np.array([[-3,-3],[-2,-2], [-1, -1], [0,0], [1,1], [2,2], [3,3]], dtype=np.float32)\n",
    "B=np.array([[2.5,-2], [1.5, -1], [1,-0.5], [-0.05,1], [-1.5,2]], dtype=np.float32)\n",
    "\n",
    "# result = intersection_point(A, B)\n",
    "# print(result)\n",
    "\n",
    "\n",
    "As = np.array(list((A-i*np.array([0.5,0]) for i in range(3,6))), dtype=object)\n",
    "Bs = np.array(list((B-j*np.array([0,0.5]) for j in range(4))), dtype=object)\n",
    "\n",
    "for A in As: \n",
    "    plt.plot(A[:,0], A[:,1], ':g')\n",
    "for B in Bs: \n",
    "    plt.plot(B[:,0], B[:,1], ':m')\n",
    "\n",
    "# parallel run\n",
    "\n",
    "iAs, jBs = np.meshgrid(np.arange(As.shape[0]), np.arange(Bs.shape[0]), indexing='ij')\n",
    "\n",
    "iargs = np.stack((iAs, jBs), axis=2, dtype=object).reshape(-1,2)\n",
    "args = list(map(lambda x: (As[x[0]], Bs[x[1]]), iargs))\n",
    "\n",
    "with ThreadPoolExecutor() as executor:\n",
    "    results = list(executor.map(lambda ab: intersection_point(*ab), args))\n",
    "\n",
    "idx = np.arange(As.shape[0]*Bs.shape[0]).reshape(As.shape[0], Bs.shape[0])\n",
    "\n",
    "nAs = []\n",
    "for i in range(As.shape[0]):\n",
    "    line = np.array([results[k][0] for k in idx[i,:]], dtype=np.float32) # Get all results for the current line\n",
    "    line = line[~np.all(np.isnan(line), axis=1), :] # Remove rows where all elements are NaN\n",
    "    if line.shape[0] > 0:\n",
    "        nAs.append(line)\n",
    "\n",
    "nBs = []\n",
    "for j in range(Bs.shape[0]):\n",
    "    line = np.array([results[k][0] for k in idx[:, j]], dtype=np.float32) # Get all results for the current column\n",
    "    line = line[~np.all(np.isnan(line), axis=1), :] # Remove rows where all elements are NaN\n",
    "    if line.shape[0] > 0:\n",
    "        nBs.append(line)\n",
    "\n",
    "for A in nAs:\n",
    "    plt.plot(A[:,0], A[:,1], 'o-r')\n",
    "for B in nBs: \n",
    "    plt.plot(B[:,0], B[:,1], 'o-b')\n",
    "\n",
    "\n",
    "\n",
    "\n",
    "        \n",
    "\n",
    "\n",
    "# point, indices = intersection_point(A, B)\n",
    "# print(point, indices)\n",
    "# plt.plot(point[0], point[1], 'xr')\n",
    "# plt.scatter(A[indices[0],0], A[indices[0],1], s=100, c='k')\n",
    "# plt.scatter(B[indices[1],0], B[indices[1],1], s=100, c='k')\n",
    "\n",
    "# C = normals_2D(A) * 0.5\n",
    "# plt.quiver(A[:,0], A[:,1], C[:,0], C[:,1], angles='xy', scale_units='xy', scale=1, color='r')\n",
    "\n",
    "\n"
   ]
  }
 ],
 "metadata": {
  "kernelspec": {
   "display_name": "Python 3",
   "language": "python",
   "name": "python3"
  },
  "language_info": {
   "codemirror_mode": {
    "name": "ipython",
    "version": 3
   },
   "file_extension": ".py",
   "mimetype": "text/x-python",
   "name": "python",
   "nbconvert_exporter": "python",
   "pygments_lexer": "ipython3",
   "version": "3.13.7"
  }
 },
 "nbformat": 4,
 "nbformat_minor": 5
}
